{
 "cells": [
  {
   "cell_type": "code",
   "execution_count": 11,
   "id": "e9e602fc",
   "metadata": {},
   "outputs": [],
   "source": [
    "#Так як p(X>=3) * 0.4, це означає, що ймовірність того, що випадкова величина X більше або дорівнює 3, становить 0.4\n",
    "Mx = 2"
   ]
  },
  {
   "cell_type": "code",
   "execution_count": 16,
   "id": "a2ea4682",
   "metadata": {},
   "outputs": [
    {
     "data": {
      "text/plain": [
       "7"
      ]
     },
     "execution_count": 16,
     "metadata": {},
     "output_type": "execute_result"
    }
   ],
   "source": [
    "#Оскільки розподіл рівномірний, ми знаємо, що ймовірність того, що X прийме значення в діапазоні між a та b, є однаковою для будь-якої точки в цьому діапазоні.\n",
    "#Щільність розподілу можна записати як: f(X) = 1/(b-a)\n",
    "#Mx = (a+b)/ 2 = 2, тоді a+b = 4\n",
    "#Якщо P(X < x) = (x - a) / (b - a) то P(X >= 3) = 1 - P(X <= 3) = 1 - (3 - a) / (b - a) = 0.4\n",
    "#1 - (3 - a) / (b - a) = 0.4\n",
    "#(3-a) / (b-a) = 0.6\n",
    "#3-a = 0.6*b - 0.6*a\n",
    "#3 = 0.6 *b -0.6*a + 1*a\n",
    "#3 = 0.6 *b + 0.4 *a\n",
    "#Підставляємо значення b = 4-a\n",
    "#3 = 0.6 * (4-a) + 0.4 * a\n",
    "#0.6 = -0.2*a\n",
    "a = -3\n",
    "#Звідси:\n",
    "b = 4 - a\n",
    "b = 7"
   ]
  },
  {
   "cell_type": "code",
   "execution_count": 19,
   "id": "8380f696",
   "metadata": {},
   "outputs": [],
   "source": [
    "#Перевіряємо b:\n",
    "X = 3\n",
    "X = 0.6 * b + 0.4 * a"
   ]
  },
  {
   "cell_type": "code",
   "execution_count": 21,
   "id": "7c228599",
   "metadata": {},
   "outputs": [
    {
     "data": {
      "text/plain": [
       "0.1"
      ]
     },
     "execution_count": 21,
     "metadata": {},
     "output_type": "execute_result"
    }
   ],
   "source": [
    "#Знаходимо щільність розподілу f(X)\n",
    "f_X = 1/(b-a)\n",
    "f_X"
   ]
  }
 ],
 "metadata": {
  "kernelspec": {
   "display_name": "Python 3 (ipykernel)",
   "language": "python",
   "name": "python3"
  },
  "language_info": {
   "codemirror_mode": {
    "name": "ipython",
    "version": 3
   },
   "file_extension": ".py",
   "mimetype": "text/x-python",
   "name": "python",
   "nbconvert_exporter": "python",
   "pygments_lexer": "ipython3",
   "version": "3.9.13"
  }
 },
 "nbformat": 4,
 "nbformat_minor": 5
}
