{
 "cells": [
  {
   "cell_type": "code",
   "execution_count": 78,
   "id": "df7d0406",
   "metadata": {},
   "outputs": [],
   "source": [
    "import pandas as pd"
   ]
  },
  {
   "cell_type": "code",
   "execution_count": 79,
   "id": "bec9c791",
   "metadata": {},
   "outputs": [],
   "source": [
    "#Трохи не правильна умова, замість Xi у нас э діапазон від Ai-1 до Ai. Хi знайдемо далі\n",
    "task = {\n",
    "    'Ai-1':[0,24,48,72,96,120,144,168,192],\n",
    "    'Ai': [24,48,72,96,120,144,168,192,216],\n",
    "    'Ni':[1,2,4,6,12,16,6,2,1]\n",
    "}"
   ]
  },
  {
   "cell_type": "code",
   "execution_count": 80,
   "id": "2fdaf1f9",
   "metadata": {},
   "outputs": [
    {
     "data": {
      "text/html": [
       "<div>\n",
       "<style scoped>\n",
       "    .dataframe tbody tr th:only-of-type {\n",
       "        vertical-align: middle;\n",
       "    }\n",
       "\n",
       "    .dataframe tbody tr th {\n",
       "        vertical-align: top;\n",
       "    }\n",
       "\n",
       "    .dataframe thead th {\n",
       "        text-align: right;\n",
       "    }\n",
       "</style>\n",
       "<table border=\"1\" class=\"dataframe\">\n",
       "  <thead>\n",
       "    <tr style=\"text-align: right;\">\n",
       "      <th></th>\n",
       "      <th>Ai-1</th>\n",
       "      <th>Ai</th>\n",
       "      <th>Ni</th>\n",
       "    </tr>\n",
       "  </thead>\n",
       "  <tbody>\n",
       "    <tr>\n",
       "      <th>0</th>\n",
       "      <td>0</td>\n",
       "      <td>24</td>\n",
       "      <td>1</td>\n",
       "    </tr>\n",
       "    <tr>\n",
       "      <th>1</th>\n",
       "      <td>24</td>\n",
       "      <td>48</td>\n",
       "      <td>2</td>\n",
       "    </tr>\n",
       "    <tr>\n",
       "      <th>2</th>\n",
       "      <td>48</td>\n",
       "      <td>72</td>\n",
       "      <td>4</td>\n",
       "    </tr>\n",
       "    <tr>\n",
       "      <th>3</th>\n",
       "      <td>72</td>\n",
       "      <td>96</td>\n",
       "      <td>6</td>\n",
       "    </tr>\n",
       "    <tr>\n",
       "      <th>4</th>\n",
       "      <td>96</td>\n",
       "      <td>120</td>\n",
       "      <td>12</td>\n",
       "    </tr>\n",
       "    <tr>\n",
       "      <th>5</th>\n",
       "      <td>120</td>\n",
       "      <td>144</td>\n",
       "      <td>16</td>\n",
       "    </tr>\n",
       "    <tr>\n",
       "      <th>6</th>\n",
       "      <td>144</td>\n",
       "      <td>168</td>\n",
       "      <td>6</td>\n",
       "    </tr>\n",
       "    <tr>\n",
       "      <th>7</th>\n",
       "      <td>168</td>\n",
       "      <td>192</td>\n",
       "      <td>2</td>\n",
       "    </tr>\n",
       "    <tr>\n",
       "      <th>8</th>\n",
       "      <td>192</td>\n",
       "      <td>216</td>\n",
       "      <td>1</td>\n",
       "    </tr>\n",
       "  </tbody>\n",
       "</table>\n",
       "</div>"
      ],
      "text/plain": [
       "   Ai-1   Ai  Ni\n",
       "0     0   24   1\n",
       "1    24   48   2\n",
       "2    48   72   4\n",
       "3    72   96   6\n",
       "4    96  120  12\n",
       "5   120  144  16\n",
       "6   144  168   6\n",
       "7   168  192   2\n",
       "8   192  216   1"
      ]
     },
     "execution_count": 80,
     "metadata": {},
     "output_type": "execute_result"
    }
   ],
   "source": [
    "df = pd.DataFrame(task)\n",
    "df"
   ]
  },
  {
   "cell_type": "code",
   "execution_count": 81,
   "id": "374d4fb6",
   "metadata": {},
   "outputs": [],
   "source": [
    "n = sum(df['Ni'])"
   ]
  },
  {
   "cell_type": "code",
   "execution_count": 83,
   "id": "244eb441",
   "metadata": {},
   "outputs": [
    {
     "data": {
      "text/html": [
       "<div>\n",
       "<style scoped>\n",
       "    .dataframe tbody tr th:only-of-type {\n",
       "        vertical-align: middle;\n",
       "    }\n",
       "\n",
       "    .dataframe tbody tr th {\n",
       "        vertical-align: top;\n",
       "    }\n",
       "\n",
       "    .dataframe thead th {\n",
       "        text-align: right;\n",
       "    }\n",
       "</style>\n",
       "<table border=\"1\" class=\"dataframe\">\n",
       "  <thead>\n",
       "    <tr style=\"text-align: right;\">\n",
       "      <th></th>\n",
       "      <th>Ai-1</th>\n",
       "      <th>Ai</th>\n",
       "      <th>Ni</th>\n",
       "      <th>Xi</th>\n",
       "    </tr>\n",
       "  </thead>\n",
       "  <tbody>\n",
       "    <tr>\n",
       "      <th>0</th>\n",
       "      <td>0</td>\n",
       "      <td>24</td>\n",
       "      <td>1</td>\n",
       "      <td>12.0</td>\n",
       "    </tr>\n",
       "    <tr>\n",
       "      <th>1</th>\n",
       "      <td>24</td>\n",
       "      <td>48</td>\n",
       "      <td>2</td>\n",
       "      <td>36.0</td>\n",
       "    </tr>\n",
       "    <tr>\n",
       "      <th>2</th>\n",
       "      <td>48</td>\n",
       "      <td>72</td>\n",
       "      <td>4</td>\n",
       "      <td>60.0</td>\n",
       "    </tr>\n",
       "    <tr>\n",
       "      <th>3</th>\n",
       "      <td>72</td>\n",
       "      <td>96</td>\n",
       "      <td>6</td>\n",
       "      <td>84.0</td>\n",
       "    </tr>\n",
       "    <tr>\n",
       "      <th>4</th>\n",
       "      <td>96</td>\n",
       "      <td>120</td>\n",
       "      <td>12</td>\n",
       "      <td>108.0</td>\n",
       "    </tr>\n",
       "    <tr>\n",
       "      <th>5</th>\n",
       "      <td>120</td>\n",
       "      <td>144</td>\n",
       "      <td>16</td>\n",
       "      <td>132.0</td>\n",
       "    </tr>\n",
       "    <tr>\n",
       "      <th>6</th>\n",
       "      <td>144</td>\n",
       "      <td>168</td>\n",
       "      <td>6</td>\n",
       "      <td>156.0</td>\n",
       "    </tr>\n",
       "    <tr>\n",
       "      <th>7</th>\n",
       "      <td>168</td>\n",
       "      <td>192</td>\n",
       "      <td>2</td>\n",
       "      <td>180.0</td>\n",
       "    </tr>\n",
       "    <tr>\n",
       "      <th>8</th>\n",
       "      <td>192</td>\n",
       "      <td>216</td>\n",
       "      <td>1</td>\n",
       "      <td>204.0</td>\n",
       "    </tr>\n",
       "  </tbody>\n",
       "</table>\n",
       "</div>"
      ],
      "text/plain": [
       "   Ai-1   Ai  Ni     Xi\n",
       "0     0   24   1   12.0\n",
       "1    24   48   2   36.0\n",
       "2    48   72   4   60.0\n",
       "3    72   96   6   84.0\n",
       "4    96  120  12  108.0\n",
       "5   120  144  16  132.0\n",
       "6   144  168   6  156.0\n",
       "7   168  192   2  180.0\n",
       "8   192  216   1  204.0"
      ]
     },
     "execution_count": 83,
     "metadata": {},
     "output_type": "execute_result"
    }
   ],
   "source": [
    "df['Xi'] = (df['Ai-1'] + df['Ai']) / 2\n",
    "df"
   ]
  },
  {
   "cell_type": "code",
   "execution_count": 84,
   "id": "edc00580",
   "metadata": {},
   "outputs": [
    {
     "data": {
      "text/plain": [
       "114.72"
      ]
     },
     "execution_count": 84,
     "metadata": {},
     "output_type": "execute_result"
    }
   ],
   "source": [
    "#Знаходимо вибіркове середнє\n",
    "x_ = 1/n * sum(df['Ni']*df['Xi'])\n",
    "x_"
   ]
  },
  {
   "cell_type": "code",
   "execution_count": 85,
   "id": "dca683fc",
   "metadata": {},
   "outputs": [
    {
     "data": {
      "text/plain": [
       "38.1109118232561"
      ]
     },
     "execution_count": 85,
     "metadata": {},
     "output_type": "execute_result"
    }
   ],
   "source": [
    "#Знаходимо середньоквадратичне відхилення\n",
    "deviation = (1/n * sum(df['Xi']**2 * df['Ni']) - x_**2)**0.5\n",
    "deviation"
   ]
  },
  {
   "cell_type": "code",
   "execution_count": 101,
   "id": "4d99508e",
   "metadata": {},
   "outputs": [
    {
     "data": {
      "text/plain": [
       "2.657506607810857"
      ]
     },
     "execution_count": 101,
     "metadata": {},
     "output_type": "execute_result"
    }
   ],
   "source": [
    "#Знаходимо інтервали Yi-1 та Yi для обчислення теоретичної ймовірності Pi\n",
    "Y1 = ((24 - x_) / deviation)\n",
    "Y2 = (48 - x_) / deviation\n",
    "Y3 = (72 - x_) / deviation\n",
    "Y4 = (96 - x_) / deviation\n",
    "Y5 = (120 - x_) / deviation\n",
    "Y6 = (144 - x_) / deviation\n",
    "Y7 = (168 - x_) / deviation\n",
    "Y8 = (192 - x_) / deviation\n",
    "Y9 = (216 - x_) / deviation"
   ]
  },
  {
   "cell_type": "code",
   "execution_count": 87,
   "id": "e062db7a",
   "metadata": {},
   "outputs": [
    {
     "data": {
      "text/plain": [
       "[[-inf, -2.3804206107879238],\n",
       " [-2.3804206107879238, -1.7506797084630763],\n",
       " [-1.7506797084630763, -1.1209388061382286],\n",
       " [-1.1209388061382286, -0.4911979038133811],\n",
       " [-0.4911979038133811, 0.1385429985114665],\n",
       " [0.1385429985114665, 0.768283900836314],\n",
       " [0.768283900836314, 1.3980248031611617],\n",
       " [1.3980248031611617, 2.027765705486009],\n",
       " [2.027765705486009, inf]]"
      ]
     },
     "execution_count": 87,
     "metadata": {},
     "output_type": "execute_result"
    }
   ],
   "source": [
    "#Отже інтервали наступні:\n",
    "list = [\n",
    "    [float('-inf'), Y1],\n",
    "    [Y1,Y2],\n",
    "    [Y2,Y3],\n",
    "    [Y3,Y4],\n",
    "    [Y4,Y5],\n",
    "    [Y5,Y6],\n",
    "    [Y6,Y7],\n",
    "    [Y7,Y8],\n",
    "    [Y8,float('inf')]\n",
    "]\n",
    "list"
   ]
  },
  {
   "cell_type": "code",
   "execution_count": 102,
   "id": "47bb7eff",
   "metadata": {},
   "outputs": [
    {
     "data": {
      "text/plain": [
       "[0.008699999999999986,\n",
       " 0.03140000000000004,\n",
       " 0.09129999999999999,\n",
       " 0.18069999999999997,\n",
       " 0.2396,\n",
       " 0.22469999999999998,\n",
       " 0.14130000000000004,\n",
       " 0.06059999999999999,\n",
       " 0.021699999999999997]"
      ]
     },
     "execution_count": 102,
     "metadata": {},
     "output_type": "execute_result"
    }
   ],
   "source": [
    "#Знаходимо значення функції f(y) з таблиці лапласа\n",
    "p1 = 0.5 - 0.4913\n",
    "p2 = 0.4913 - 0.4599\n",
    "p3 = 0.4599 - 0.3686\n",
    "p4 = 0.3686 - 0.1879\n",
    "p5 = 0.1879 + 0.0517\n",
    "p6 = 0.2764 - 0.0517\n",
    "p7 = 0.4177 - 0.2764\n",
    "p8 = 0.4783 - 0.4177\n",
    "p9 = 0.5 - 0.4783\n",
    "p_list = [p1,p2,p3,p4,p5,p6,p7,p8,p9]\n",
    "p_list"
   ]
  },
  {
   "cell_type": "code",
   "execution_count": 103,
   "id": "2bf221f8",
   "metadata": {},
   "outputs": [
    {
     "data": {
      "text/html": [
       "<div>\n",
       "<style scoped>\n",
       "    .dataframe tbody tr th:only-of-type {\n",
       "        vertical-align: middle;\n",
       "    }\n",
       "\n",
       "    .dataframe tbody tr th {\n",
       "        vertical-align: top;\n",
       "    }\n",
       "\n",
       "    .dataframe thead th {\n",
       "        text-align: right;\n",
       "    }\n",
       "</style>\n",
       "<table border=\"1\" class=\"dataframe\">\n",
       "  <thead>\n",
       "    <tr style=\"text-align: right;\">\n",
       "      <th></th>\n",
       "      <th>Ai-1</th>\n",
       "      <th>Ai</th>\n",
       "      <th>Ni</th>\n",
       "      <th>Xi</th>\n",
       "      <th>Pi</th>\n",
       "    </tr>\n",
       "  </thead>\n",
       "  <tbody>\n",
       "    <tr>\n",
       "      <th>0</th>\n",
       "      <td>0</td>\n",
       "      <td>24</td>\n",
       "      <td>1</td>\n",
       "      <td>12.0</td>\n",
       "      <td>0.0087</td>\n",
       "    </tr>\n",
       "    <tr>\n",
       "      <th>1</th>\n",
       "      <td>24</td>\n",
       "      <td>48</td>\n",
       "      <td>2</td>\n",
       "      <td>36.0</td>\n",
       "      <td>0.0314</td>\n",
       "    </tr>\n",
       "    <tr>\n",
       "      <th>2</th>\n",
       "      <td>48</td>\n",
       "      <td>72</td>\n",
       "      <td>4</td>\n",
       "      <td>60.0</td>\n",
       "      <td>0.0913</td>\n",
       "    </tr>\n",
       "    <tr>\n",
       "      <th>3</th>\n",
       "      <td>72</td>\n",
       "      <td>96</td>\n",
       "      <td>6</td>\n",
       "      <td>84.0</td>\n",
       "      <td>0.1807</td>\n",
       "    </tr>\n",
       "    <tr>\n",
       "      <th>4</th>\n",
       "      <td>96</td>\n",
       "      <td>120</td>\n",
       "      <td>12</td>\n",
       "      <td>108.0</td>\n",
       "      <td>0.2396</td>\n",
       "    </tr>\n",
       "    <tr>\n",
       "      <th>5</th>\n",
       "      <td>120</td>\n",
       "      <td>144</td>\n",
       "      <td>16</td>\n",
       "      <td>132.0</td>\n",
       "      <td>0.2247</td>\n",
       "    </tr>\n",
       "    <tr>\n",
       "      <th>6</th>\n",
       "      <td>144</td>\n",
       "      <td>168</td>\n",
       "      <td>6</td>\n",
       "      <td>156.0</td>\n",
       "      <td>0.1413</td>\n",
       "    </tr>\n",
       "    <tr>\n",
       "      <th>7</th>\n",
       "      <td>168</td>\n",
       "      <td>192</td>\n",
       "      <td>2</td>\n",
       "      <td>180.0</td>\n",
       "      <td>0.0606</td>\n",
       "    </tr>\n",
       "    <tr>\n",
       "      <th>8</th>\n",
       "      <td>192</td>\n",
       "      <td>216</td>\n",
       "      <td>1</td>\n",
       "      <td>204.0</td>\n",
       "      <td>0.0217</td>\n",
       "    </tr>\n",
       "  </tbody>\n",
       "</table>\n",
       "</div>"
      ],
      "text/plain": [
       "   Ai-1   Ai  Ni     Xi      Pi\n",
       "0     0   24   1   12.0  0.0087\n",
       "1    24   48   2   36.0  0.0314\n",
       "2    48   72   4   60.0  0.0913\n",
       "3    72   96   6   84.0  0.1807\n",
       "4    96  120  12  108.0  0.2396\n",
       "5   120  144  16  132.0  0.2247\n",
       "6   144  168   6  156.0  0.1413\n",
       "7   168  192   2  180.0  0.0606\n",
       "8   192  216   1  204.0  0.0217"
      ]
     },
     "execution_count": 103,
     "metadata": {},
     "output_type": "execute_result"
    }
   ],
   "source": [
    "df['Pi'] = p_list\n",
    "df"
   ]
  },
  {
   "cell_type": "code",
   "execution_count": 105,
   "id": "a8352dbc",
   "metadata": {},
   "outputs": [
    {
     "data": {
      "text/plain": [
       "1.0"
      ]
     },
     "execution_count": 105,
     "metadata": {},
     "output_type": "execute_result"
    }
   ],
   "source": [
    "#Перевіряємо, чи правильно розрахували Pi (в сумі треба 1)\n",
    "df['Pi'].sum()"
   ]
  },
  {
   "cell_type": "code",
   "execution_count": 106,
   "id": "57c14117",
   "metadata": {},
   "outputs": [
    {
     "data": {
      "text/html": [
       "<div>\n",
       "<style scoped>\n",
       "    .dataframe tbody tr th:only-of-type {\n",
       "        vertical-align: middle;\n",
       "    }\n",
       "\n",
       "    .dataframe tbody tr th {\n",
       "        vertical-align: top;\n",
       "    }\n",
       "\n",
       "    .dataframe thead th {\n",
       "        text-align: right;\n",
       "    }\n",
       "</style>\n",
       "<table border=\"1\" class=\"dataframe\">\n",
       "  <thead>\n",
       "    <tr style=\"text-align: right;\">\n",
       "      <th></th>\n",
       "      <th>Ai-1</th>\n",
       "      <th>Ai</th>\n",
       "      <th>Ni</th>\n",
       "      <th>Xi</th>\n",
       "      <th>Pi</th>\n",
       "      <th>N_</th>\n",
       "    </tr>\n",
       "  </thead>\n",
       "  <tbody>\n",
       "    <tr>\n",
       "      <th>0</th>\n",
       "      <td>0</td>\n",
       "      <td>24</td>\n",
       "      <td>1</td>\n",
       "      <td>12.0</td>\n",
       "      <td>0.0087</td>\n",
       "      <td>0.435</td>\n",
       "    </tr>\n",
       "    <tr>\n",
       "      <th>1</th>\n",
       "      <td>24</td>\n",
       "      <td>48</td>\n",
       "      <td>2</td>\n",
       "      <td>36.0</td>\n",
       "      <td>0.0314</td>\n",
       "      <td>1.570</td>\n",
       "    </tr>\n",
       "    <tr>\n",
       "      <th>2</th>\n",
       "      <td>48</td>\n",
       "      <td>72</td>\n",
       "      <td>4</td>\n",
       "      <td>60.0</td>\n",
       "      <td>0.0913</td>\n",
       "      <td>4.565</td>\n",
       "    </tr>\n",
       "    <tr>\n",
       "      <th>3</th>\n",
       "      <td>72</td>\n",
       "      <td>96</td>\n",
       "      <td>6</td>\n",
       "      <td>84.0</td>\n",
       "      <td>0.1807</td>\n",
       "      <td>9.035</td>\n",
       "    </tr>\n",
       "    <tr>\n",
       "      <th>4</th>\n",
       "      <td>96</td>\n",
       "      <td>120</td>\n",
       "      <td>12</td>\n",
       "      <td>108.0</td>\n",
       "      <td>0.2396</td>\n",
       "      <td>11.980</td>\n",
       "    </tr>\n",
       "    <tr>\n",
       "      <th>5</th>\n",
       "      <td>120</td>\n",
       "      <td>144</td>\n",
       "      <td>16</td>\n",
       "      <td>132.0</td>\n",
       "      <td>0.2247</td>\n",
       "      <td>11.235</td>\n",
       "    </tr>\n",
       "    <tr>\n",
       "      <th>6</th>\n",
       "      <td>144</td>\n",
       "      <td>168</td>\n",
       "      <td>6</td>\n",
       "      <td>156.0</td>\n",
       "      <td>0.1413</td>\n",
       "      <td>7.065</td>\n",
       "    </tr>\n",
       "    <tr>\n",
       "      <th>7</th>\n",
       "      <td>168</td>\n",
       "      <td>192</td>\n",
       "      <td>2</td>\n",
       "      <td>180.0</td>\n",
       "      <td>0.0606</td>\n",
       "      <td>3.030</td>\n",
       "    </tr>\n",
       "    <tr>\n",
       "      <th>8</th>\n",
       "      <td>192</td>\n",
       "      <td>216</td>\n",
       "      <td>1</td>\n",
       "      <td>204.0</td>\n",
       "      <td>0.0217</td>\n",
       "      <td>1.085</td>\n",
       "    </tr>\n",
       "  </tbody>\n",
       "</table>\n",
       "</div>"
      ],
      "text/plain": [
       "   Ai-1   Ai  Ni     Xi      Pi      N_\n",
       "0     0   24   1   12.0  0.0087   0.435\n",
       "1    24   48   2   36.0  0.0314   1.570\n",
       "2    48   72   4   60.0  0.0913   4.565\n",
       "3    72   96   6   84.0  0.1807   9.035\n",
       "4    96  120  12  108.0  0.2396  11.980\n",
       "5   120  144  16  132.0  0.2247  11.235\n",
       "6   144  168   6  156.0  0.1413   7.065\n",
       "7   168  192   2  180.0  0.0606   3.030\n",
       "8   192  216   1  204.0  0.0217   1.085"
      ]
     },
     "execution_count": 106,
     "metadata": {},
     "output_type": "execute_result"
    }
   ],
   "source": [
    "df['N_'] = df['Pi'] * n\n",
    "df"
   ]
  },
  {
   "cell_type": "code",
   "execution_count": 107,
   "id": "c96dcb37",
   "metadata": {},
   "outputs": [
    {
     "data": {
      "text/plain": [
       "50.0"
      ]
     },
     "execution_count": 107,
     "metadata": {},
     "output_type": "execute_result"
    }
   ],
   "source": [
    "#Перевіряємо чи правильно розраховане N_ (штрих) \n",
    "df['N_'].sum()"
   ]
  },
  {
   "cell_type": "code",
   "execution_count": 110,
   "id": "77437d27",
   "metadata": {},
   "outputs": [],
   "source": [
    "#Обчислюэмо К емпіричне (Kemp)\n",
    "Kemp = sum(((df['Ni'] - df['N_'])**2) / df['N_'])"
   ]
  },
  {
   "cell_type": "code",
   "execution_count": 111,
   "id": "10f9bbc9",
   "metadata": {},
   "outputs": [
    {
     "data": {
      "text/plain": [
       "4.479357379672728"
      ]
     },
     "execution_count": 111,
     "metadata": {},
     "output_type": "execute_result"
    }
   ],
   "source": [
    "Kemp"
   ]
  },
  {
   "cell_type": "code",
   "execution_count": 112,
   "id": "af6dc5c4",
   "metadata": {},
   "outputs": [
    {
     "data": {
      "text/plain": [
       "True"
      ]
     },
     "execution_count": 112,
     "metadata": {},
     "output_type": "execute_result"
    }
   ],
   "source": [
    "#За таблицею критичних точок розподілу X**2 при рівні значущості α = 0,01 та числі ступенів свободи 𝑟 = 𝑚 − 𝑠 − 1 = 9 − 2 − 1 = 6 знаходимо критичну точку Xkp\n",
    "Xkp = 16.8\n",
    "Kemp < Xkp"
   ]
  },
  {
   "cell_type": "code",
   "execution_count": null,
   "id": "2c6aff30",
   "metadata": {},
   "outputs": [],
   "source": [
    "#Отже у нас немає підстав відхилити нульову гіпотезу"
   ]
  }
 ],
 "metadata": {
  "kernelspec": {
   "display_name": "Python 3 (ipykernel)",
   "language": "python",
   "name": "python3"
  },
  "language_info": {
   "codemirror_mode": {
    "name": "ipython",
    "version": 3
   },
   "file_extension": ".py",
   "mimetype": "text/x-python",
   "name": "python",
   "nbconvert_exporter": "python",
   "pygments_lexer": "ipython3",
   "version": "3.9.13"
  }
 },
 "nbformat": 4,
 "nbformat_minor": 5
}
